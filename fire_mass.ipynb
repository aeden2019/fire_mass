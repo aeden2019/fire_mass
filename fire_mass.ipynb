{
 "cells": [
  {
   "cell_type": "markdown",
   "id": "2f380c84",
   "metadata": {},
   "source": [
    "# Load FIRE Data\n"
   ]
  },
  {
   "cell_type": "code",
   "execution_count": 216,
   "id": "7d3f9154",
   "metadata": {},
   "outputs": [],
   "source": [
    "# Import the main analysis module\n",
    "import gizmo_analysis as gizmo"
   ]
  },
  {
   "cell_type": "code",
   "execution_count": 217,
   "id": "1e243799",
   "metadata": {},
   "outputs": [],
   "source": [
    "# Choose the simulation directory\n",
    "simulation_directory = '/home/jovyan/fire2/m12i'"
   ]
  },
  {
   "cell_type": "code",
   "execution_count": 218,
   "id": "7dfc117a",
   "metadata": {},
   "outputs": [
    {
     "name": "stdout",
     "output_type": "stream",
     "text": [
      "\n",
      "# in utilities.simulation.Snapshot():\n",
      "* reading:  home/jovyan/fire2/m12i/snapshot_times.txt\n",
      "\n",
      "* input redshift = 0:  using snapshot index = 600, redshift = 0.000\n",
      "\n",
      "\n",
      "# in gizmo_analysis.gizmo_io.Read():\n",
      "* reading header from:  home/jovyan/fire2/m12i/output/snapdir_600/snapshot_600.0.hdf5\n",
      "  snapshot contains the following number of particles:\n",
      "    dark      (id = 1): 70514272 particles\n",
      "    dark2     (id = 2): 5513331 particles\n",
      "    gas       (id = 0): 57060074 particles\n",
      "    star      (id = 4): 13976485 particles\n",
      "    blackhole (id = 5): 0 particles\n",
      "\n",
      "* reading the following\n",
      "  species: ['star', 'dark']\n",
      "\n",
      "* reading particles from:\n",
      "    snapshot_600.0.hdf5\n",
      "    snapshot_600.1.hdf5\n",
      "    snapshot_600.2.hdf5\n",
      "    snapshot_600.3.hdf5\n",
      "\n",
      "! cannot find MUSIC config file:  home/jovyan/fire2/m12i/*/*.conf\n",
      "! missing cosmological parameters, assuming the following (from AGORA):\n",
      "  assuming omega_baryon = 0.0455\n",
      "  assuming sigma_8 = 0.807\n",
      "  assuming n_s = 0.961\n",
      "\n",
      "* checking sanity of particle properties\n",
      "\n",
      "\n",
      "# in gizmo_analysis.gizmo_track.ParticleCoordinate():\n",
      "  read 1 host (position, velocity, principal axes) from:  home/jovyan/fire2/m12i/track/host_coordinates.hdf5\n",
      "  host1 position = (41792.15, 44131.23, 46267.68) [kpc comoving]\n",
      "  host1 velocity = (-52.2, 73.6, 94.7) [km / s]\n",
      "  host1 axis ratios = (0.16, 0.16, 0.99)\n",
      "\n"
     ]
    }
   ],
   "source": [
    "# read star particles and gas cells at z = 0\n",
    "part = gizmo.io.Read.read_snapshots(['star', 'dark'], 'redshift', 0, simulation_directory)"
   ]
  },
  {
   "cell_type": "markdown",
   "id": "d813537f",
   "metadata": {},
   "source": [
    "# Extract parameters from FIRE"
   ]
  },
  {
   "cell_type": "code",
   "execution_count": 352,
   "id": "7d3de01f",
   "metadata": {},
   "outputs": [
    {
     "name": "stdout",
     "output_type": "stream",
     "text": [
      "dict_keys(['star', 'dark'])\n",
      "dict_keys(['position', 'mass', 'massfraction', 'id.child', 'id.generation', 'id', 'potential', 'form.scalefactor', 'velocity'])\n",
      "dict_keys(['position', 'mass', 'id.child', 'id.generation', 'id', 'potential', 'velocity'])\n"
     ]
    }
   ],
   "source": [
    "# Display keys\n",
    "print( part.keys() )\n",
    "print( part['star'].keys() )\n",
    "print( part['dark'].keys() )"
   ]
  },
  {
   "cell_type": "code",
   "execution_count": 353,
   "id": "a067f9d2",
   "metadata": {},
   "outputs": [],
   "source": [
    "# Declare parameters for star and dark matter particles\n",
    "starPos = part['star'].prop('host.distance') # star position in kpc\n",
    "starMass = part['star']['mass']              # star mass in solar masses\n",
    "starVel = part['star'].prop('host.velocity') # star velocity in km/s\n",
    "\n",
    "darkPos = part['dark'].prop('host.distance') # dark position in kpc\n",
    "darkMass = part['dark']['mass']              # dark mass in solar masses\n",
    "darkVel = part['dark'].prop('host.velocity') # dark velocity in km/s"
   ]
  },
  {
   "cell_type": "markdown",
   "id": "37c23a2b",
   "metadata": {},
   "source": [
    "# Graph density plots and find coefs"
   ]
  },
  {
   "cell_type": "code",
   "execution_count": 380,
   "id": "decedd22",
   "metadata": {},
   "outputs": [],
   "source": [
    "# Import modules for graphing \n",
    "import numpy as np\n",
    "%matplotlib inline\n",
    "import matplotlib\n",
    "import matplotlib.pyplot as plt\n",
    "\n",
    "# Import modules for curve fitting\n",
    "import scipy\n",
    "from scipy.optimize import curve_fit"
   ]
  },
  {
   "cell_type": "markdown",
   "id": "e433b4c7",
   "metadata": {},
   "source": [
    "Note: in both graphing codes below:\n",
    "* edges = bin edges of the histogram computed for the radial data\n",
    "* edges[1:] = all the bin edges except for the lower edge of the first bin\n",
    "* edges[:-1] = all bin edges except for the upper edge of the last bin"
   ]
  },
  {
   "cell_type": "code",
   "execution_count": 381,
   "id": "8dfb044a",
   "metadata": {},
   "outputs": [],
   "source": [
    "# Define the bin edges\n",
    "rmin = 0  # minimum radius\n",
    "rmax = 200  # maximum radius\n",
    "bins = 200  # number of bins"
   ]
  },
  {
   "cell_type": "markdown",
   "id": "aa76fe31",
   "metadata": {},
   "source": [
    "### Star density profile"
   ]
  },
  {
   "cell_type": "code",
   "execution_count": 383,
   "id": "d1340d1f",
   "metadata": {},
   "outputs": [
    {
     "name": "stderr",
     "output_type": "stream",
     "text": [
      "/tmp/ipykernel_518/3510097798.py:14: UserWarning: Attempt to set non-positive xlim on a log-scaled axis will be ignored.\n",
      "  ax.set_xlim(rmin, rmax)\n"
     ]
    },
    {
     "data": {
      "image/png": "[encoded data removed]",
      "text/plain": [
       "<Figure size 432x288 with 1 Axes>"
      ]
     },
     "metadata": {
      "needs_background": "light"
     },
     "output_type": "display_data"
    }
   ],
   "source": [
    "# Compute radial distance\n",
    "starRadial = np.sqrt((starPos[:,0])**2 + (starPos[:,1])**2 + (starPos[:,2])**2)\n",
    "\n",
    "# Compute the density profile\n",
    "counts, edges = np.histogram(starRadial, bins=bins, range=(rmin, rmax))\n",
    "volume = 4.0/3.0 * np.pi * (np.power(edges[1:], 3) - np.power(edges[:-1], 3))\n",
    "density = counts / volume\n",
    "\n",
    "# Plot the density profile\n",
    "fig, ax = plt.subplots()\n",
    "ax.loglog(edges[:-1], density)\n",
    "ax.set_xlabel('Radius [log kpc]')\n",
    "ax.set_ylabel('Density [log stars/kpc$^3$]')\n",
    "ax.set_xlim(rmin, rmax)\n",
    "plt.title('Star density profile')\n",
    "plt.show()"
   ]
  },
  {
   "cell_type": "markdown",
   "id": "86f41fb3",
   "metadata": {},
   "source": [
    "### Calculate gamma from the star population"
   ]
  },
  {
   "cell_type": "code",
   "execution_count": 430,
   "id": "eac8e94e",
   "metadata": {},
   "outputs": [
    {
     "name": "stdout",
     "output_type": "stream",
     "text": [
      "Gamma =  -0.37976423257145564\n"
     ]
    }
   ],
   "source": [
    "# Objective function\n",
    "def objective(r, gamma):\n",
    " return np.power(r,-gamma)\n",
    "\n",
    "# Call curve_fit \n",
    "popt, pcov = curve_fit(objective, edges[1:], density)\n",
    "\n",
    "# Assign gamma from the stellar data fit\n",
    "gamma = popt[0]\n",
    "print(\"Gamma = \", gamma)\n",
    "\n",
    "# Try log fitting instead"
   ]
  },
  {
   "cell_type": "markdown",
   "id": "7837e824",
   "metadata": {},
   "source": [
    "### Calculate beta from the star population"
   ]
  },
  {
   "cell_type": "code",
   "execution_count": 385,
   "id": "1bf53dd0",
   "metadata": {},
   "outputs": [
    {
     "name": "stdout",
     "output_type": "stream",
     "text": [
      "Beta =  0.12881259099244435\n"
     ]
    }
   ],
   "source": [
    "# Import modules to calculate beta\n",
    "import beta\n",
    "\n",
    "# Call beta function to calculate anisotropy from 3d pos and vel arrays\n",
    "beta = beta.beta(starPos, starVel)\n",
    "print(\"Beta = \", beta)"
   ]
  },
  {
   "cell_type": "markdown",
   "id": "deba6113",
   "metadata": {},
   "source": [
    "### Dark matter density profile"
   ]
  },
  {
   "cell_type": "code",
   "execution_count": 386,
   "id": "7d8e846e",
   "metadata": {},
   "outputs": [
    {
     "name": "stderr",
     "output_type": "stream",
     "text": [
      "/tmp/ipykernel_518/833199444.py:14: UserWarning: Attempt to set non-positive xlim on a log-scaled axis will be ignored.\n",
      "  ax.set_xlim(rmin, rmax)\n"
     ]
    },
    {
     "data": {
      "image/png": "[encoded data removed]",
      "text/plain": [
       "<Figure size 432x288 with 1 Axes>"
      ]
     },
     "metadata": {
      "needs_background": "light"
     },
     "output_type": "display_data"
    }
   ],
   "source": [
    "# Compute radial distance\n",
    "darkRadial = np.sqrt((darkPos[:,0])**2 + (darkPos[:,1])**2 + (darkPos[:,2])**2)\n",
    "\n",
    "# Compute the density profile\n",
    "counts, edges = np.histogram(darkRadial, bins=bins, range=(rmin, rmax))\n",
    "volume = 4.0/3.0 * np.pi * (np.power(edges[1:], 3) - np.power(edges[:-1], 3))\n",
    "density = counts / volume\n",
    "\n",
    "# Plot the density profile\n",
    "fig, ax = plt.subplots()\n",
    "ax.loglog(edges[:-1], density)\n",
    "ax.set_xlabel('Radius [log kpc]')\n",
    "ax.set_ylabel('Density [log stars/kpc$^3$]')\n",
    "ax.set_xlim(rmin, rmax)\n",
    "plt.title('Dark matter density profile')\n",
    "plt.show()"
   ]
  },
  {
   "cell_type": "markdown",
   "id": "53269cda",
   "metadata": {},
   "source": [
    "### Calculate alpha from dark matter population"
   ]
  },
  {
   "cell_type": "code",
   "execution_count": 387,
   "id": "1d9e3db1",
   "metadata": {},
   "outputs": [
    {
     "name": "stdout",
     "output_type": "stream",
     "text": [
      "Alpha =  -2.3797642325714556\n"
     ]
    }
   ],
   "source": [
    "# Objective function\n",
    "def objective(r, gammaDark):\n",
    " return np.power(r,-gammaDark)\n",
    "\n",
    "# Call curve_fit \n",
    "popt, pcov = curve_fit(objective, edges[1:], density)\n",
    "\n",
    "# Assign gamma\n",
    "gammaDark = popt[0]\n",
    "\n",
    "# Calculate alpha \n",
    "alpha = gammaDark - 2\n",
    "print(\"Alpha = \", alpha)"
   ]
  },
  {
   "cell_type": "markdown",
   "id": "a7f0fc3c",
   "metadata": {},
   "source": [
    "**Alpha:**  \n",
    "\n",
    "$\\phi(r) =  \\frac{v_0^2}{\\alpha}\\left(\\frac{a}{r}\\right)^\\alpha$  \n",
    "\n",
    "with $-1 \\le \\alpha \\le 1$  \n",
    "\n",
    "$\\alpha = 0$: particles orbiting point mass  \n",
    "$\\alpha = 1$: satellites moving in a large-scale mass distribution with a flat rotation curve  \n",
    "$\\alpha = \\gamma - 2$: satellites track the total gravitating mass  \n",
    "  \n",
    "**Beta:**  \n",
    "\n",
    "$\\beta = 1 - \\sigma_t^2 / \\sigma_r^2$  \n",
    "\n",
    "$\\beta \\rightarrow \\infty$: circular orbit model  \n",
    "$\\beta = 1$: purely radial orbits  \n",
    "$\\beta = 0$: isotropic case  \n",
    "\n",
    "**Gamma:**  \n",
    "\n",
    "$\\rho(r) \\propto r^{-\\gamma}$  \n",
    "\n",
    "$\\frac{d\\log \\rho}{d\\log r} = -\\gamma$"
   ]
  },
  {
   "cell_type": "code",
   "execution_count": 389,
   "id": "d8f71aad",
   "metadata": {},
   "outputs": [
    {
     "name": "stdout",
     "output_type": "stream",
     "text": [
      "Calculated alpha:  -2.3797642325714556    Expected: 0.5\n",
      "Calculated beta:   0.12881259099244435    Expected: 0 to infinity\n",
      "Calculated gamma:  -0.5617534010051383    Expected: 2.6\n"
     ]
    }
   ],
   "source": [
    "print(\"Calculated alpha: \", alpha, \"   Expected: 0.55\")\n",
    "print(\"Calculated beta:  \", beta,  \"   Expected: 0 to infinity\")\n",
    "print(\"Calculated gamma: \", gamma, \"   Expected: 2.6\")"
   ]
  },
  {
   "cell_type": "markdown",
   "id": "29b0c81c",
   "metadata": {},
   "source": [
    "# Use mass estimator"
   ]
  },
  {
   "cell_type": "code",
   "execution_count": 388,
   "id": "e73ad11f",
   "metadata": {},
   "outputs": [],
   "source": [
    "# Import mass estimator \n",
    "import mass_estimators"
   ]
  },
  {
   "cell_type": "code",
   "execution_count": 470,
   "id": "967cd337",
   "metadata": {},
   "outputs": [],
   "source": [
    "# Force values for now\n",
    "alpha = 0.55\n",
    "beta = 0\n",
    "gamma = 2.7"
   ]
  },
  {
   "cell_type": "code",
   "execution_count": 471,
   "id": "95877041",
   "metadata": {},
   "outputs": [],
   "source": [
    "# Call the profile estimator \n",
    "mass = mass_estimators.mass_estimator_profile(alpha, beta, gamma, starPos, starVel, rmin, rmax, nbins=100)"
   ]
  },
  {
   "cell_type": "code",
   "execution_count": 472,
   "id": "15f90a1c",
   "metadata": {},
   "outputs": [],
   "source": [
    "# Assign radius and mass outputs\n",
    "radius = mass[0]  # galactocentric distance bins\n",
    "mass_v = mass[1]  # enclosed mass profile computed with 3d velocities\n",
    "mass_vr = mass[2] # enclosed mass profile computed with radial velocities"
   ]
  },
  {
   "cell_type": "code",
   "execution_count": 473,
   "id": "e53d480e",
   "metadata": {},
   "outputs": [
    {
     "data": {
      "image/png": "[encoded data removed]",
      "text/plain": [
       "<Figure size 432x288 with 1 Axes>"
      ]
     },
     "metadata": {
      "needs_background": "light"
     },
     "output_type": "display_data"
    }
   ],
   "source": [
    "# Plot the mass profile in cummulative shells\n",
    "fig, ax = plt.subplots()\n",
    "ax.plot(radius, np.cumsum(mass_v[1:]), label='mass_v (from 3d velocities)')\n",
    "ax.plot(radius, np.cumsum(mass_vr[1:]), label='mass_vr (from radial velocities)')\n",
    "ax.set_xlabel('Radius [kpc]')\n",
    "ax.set_ylabel('Mass [Msun/1E10]')\n",
    "ax.set_xlim(rmin, rmax)\n",
    "ax.legend()\n",
    "plt.title('Cumulative Mass profile')\n",
    "plt.show()"
   ]
  },
  {
   "cell_type": "markdown",
   "id": "0c3b743b",
   "metadata": {},
   "source": [
    "# Compare to FIRE mass"
   ]
  },
  {
   "cell_type": "code",
   "execution_count": 474,
   "id": "df33283d",
   "metadata": {},
   "outputs": [],
   "source": [
    "# Declare function to calculate cumulative mass\n",
    "def cumulative(mass, pos, n_bins, rmax):\n",
    "    dr = np.linspace(0, rmax, n_bins)\n",
    "    r = (pos[:,0]**2 + pos[:,1]**2 + pos[:,2]**2)**0.5\n",
    "    mass_dr = np.zeros(len(dr)-1)\n",
    "    for i in range(len(dr)-1):\n",
    "        index = np.where((r<dr[i+1]) & (r>dr[i]))\n",
    "        mass_dr[i] = np.sum(mass[index])\n",
    "    return dr, mass_dr"
   ]
  },
  {
   "cell_type": "code",
   "execution_count": 475,
   "id": "19c6ff30",
   "metadata": {},
   "outputs": [],
   "source": [
    "# Calculate FIRE cumulative mass\n",
    "fireCumulative = cumulative(starMass, starPos, n_bins=100, rmax=rmax)\n",
    "fireRadius = fireCumulative[0]\n",
    "fireMass = fireCumulative[1]"
   ]
  },
  {
   "cell_type": "code",
   "execution_count": 476,
   "id": "37b139de",
   "metadata": {},
   "outputs": [
    {
     "data": {
      "image/png": "[encoded data removed]",
      "text/plain": [
       "<Figure size 432x288 with 1 Axes>"
      ]
     },
     "metadata": {
      "needs_background": "light"
     },
     "output_type": "display_data"
    }
   ],
   "source": [
    "# Plot the expected mass from FIRE\n",
    "fig, ax = plt.subplots()\n",
    "ax.plot(fireRadius[1:], np.cumsum(fireMass))\n",
    "ax.set_xlabel('Radius [kpc]')\n",
    "ax.set_ylabel('Mass [Msun]')\n",
    "ax.set_xlim(rmin, rmax)\n",
    "plt.title('Cumulative Mass density profile')\n",
    "plt.show()"
   ]
  },
  {
   "cell_type": "markdown",
   "id": "0dfba738",
   "metadata": {},
   "source": [
    "# Combined mass density profile"
   ]
  },
  {
   "cell_type": "code",
   "execution_count": 477,
   "id": "c0957859",
   "metadata": {},
   "outputs": [
    {
     "data": {
      "image/png": "[encoded data removed]",
      "text/plain": [
       "<Figure size 432x288 with 1 Axes>"
      ]
     },
     "metadata": {
      "needs_background": "light"
     },
     "output_type": "display_data"
    }
   ],
   "source": [
    "# Plot the expected mass from FIRE\n",
    "fig, ax = plt.subplots()\n",
    "ax.plot(radius, np.cumsum(mass_v[1:]), label='mass_v (from 3d velocities)')\n",
    "ax.plot(radius, np.cumsum(mass_vr[1:]), label='mass_vr (from radial velocities)')\n",
    "ax.plot(fireRadius[1:], np.cumsum(fireMass)/1E10, label='fireMass (from FIRE data)')\n",
    "ax.set_xlabel('Radius [kpc]')\n",
    "ax.set_ylabel('Mass [[Msun/1E10]]')\n",
    "ax.set_xlim(rmin, rmax)\n",
    "plt.title('Combined cumulative mass profile')\n",
    "plt.show()"
   ]
  }
 ],
 "metadata": {
  "kernelspec": {
   "display_name": "Python 3 (ipykernel)",
   "language": "python",
   "name": "python3"
  },
  "language_info": {
   "codemirror_mode": {
    "name": "ipython",
    "version": 3
   },
   "file_extension": ".py",
   "mimetype": "text/x-python",
   "name": "python",
   "nbconvert_exporter": "python",
   "pygments_lexer": "ipython3",
   "version": "3.8.10"
  }
 },
 "nbformat": 4,
 "nbformat_minor": 5
}
