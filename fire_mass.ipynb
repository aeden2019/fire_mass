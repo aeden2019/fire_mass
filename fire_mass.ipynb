{
 "cells": [
  {
   "cell_type": "markdown",
   "id": "0ff75aad",
   "metadata": {},
   "source": [
    "# Load FIRE Data\n"
   ]
  },
  {
   "cell_type": "code",
   "execution_count": 45,
   "id": "0d7aae23",
   "metadata": {},
   "outputs": [],
   "source": [
    "# Import the main analysis module\n",
    "import gizmo_analysis as gizmo"
   ]
  },
  {
   "cell_type": "code",
   "execution_count": 46,
   "id": "078b7c62",
   "metadata": {},
   "outputs": [],
   "source": [
    "# Choose the simulation directory\n",
    "simulation_directory = '/home/jovyan/fire2/m12i'"
   ]
  },
  {
   "cell_type": "code",
   "execution_count": 47,
   "id": "70e5b10d",
   "metadata": {},
   "outputs": [
    {
     "name": "stdout",
     "output_type": "stream",
     "text": [
      "\n",
      "# in utilities.simulation.Snapshot():\n",
      "* reading:  home/jovyan/fire2/m12i/snapshot_times.txt\n",
      "\n",
      "* input redshift = 0:  using snapshot index = 600, redshift = 0.000\n",
      "\n",
      "\n",
      "# in gizmo_analysis.gizmo_io.Read():\n",
      "* reading header from:  home/jovyan/fire2/m12i/output/snapdir_600/snapshot_600.0.hdf5\n",
      "  snapshot contains the following number of particles:\n",
      "    dark      (id = 1): 70514272 particles\n",
      "    dark2     (id = 2): 5513331 particles\n",
      "    gas       (id = 0): 57060074 particles\n",
      "    star      (id = 4): 13976485 particles\n",
      "    blackhole (id = 5): 0 particles\n",
      "\n",
      "* reading the following\n",
      "  species: ['star', 'dark']\n",
      "\n",
      "* reading particles from:\n",
      "    snapshot_600.0.hdf5\n",
      "    snapshot_600.1.hdf5\n",
      "    snapshot_600.2.hdf5\n",
      "    snapshot_600.3.hdf5\n",
      "\n",
      "! cannot find MUSIC config file:  home/jovyan/fire2/m12i/*/*.conf\n",
      "! missing cosmological parameters, assuming the following (from AGORA):\n",
      "  assuming omega_baryon = 0.0455\n",
      "  assuming sigma_8 = 0.807\n",
      "  assuming n_s = 0.961\n",
      "\n",
      "* checking sanity of particle properties\n",
      "\n",
      "\n",
      "# in gizmo_analysis.gizmo_track.ParticleCoordinate():\n",
      "  read 1 host (position, velocity, principal axes) from:  home/jovyan/fire2/m12i/track/host_coordinates.hdf5\n",
      "  host1 position = (41792.15, 44131.23, 46267.68) [kpc comoving]\n",
      "  host1 velocity = (-52.2, 73.6, 94.7) [km / s]\n",
      "  host1 axis ratios = (0.16, 0.16, 0.99)\n",
      "\n"
     ]
    }
   ],
   "source": [
    "# read star particles and gas cells at z = 0\n",
    "part = gizmo.io.Read.read_snapshots(['star', 'dark'], 'redshift', 0, simulation_directory)"
   ]
  },
  {
   "cell_type": "markdown",
   "id": "f574ad47",
   "metadata": {},
   "source": [
    "# Extract parameters from FIRE"
   ]
  },
  {
   "cell_type": "code",
   "execution_count": 48,
   "id": "743108a6",
   "metadata": {},
   "outputs": [
    {
     "name": "stdout",
     "output_type": "stream",
     "text": [
      "dict_keys(['star', 'dark'])\n",
      "dict_keys(['position', 'mass', 'massfraction', 'id.child', 'id.generation', 'id', 'potential', 'form.scalefactor', 'velocity'])\n",
      "dict_keys(['position', 'mass', 'id.child', 'id.generation', 'id', 'potential', 'velocity'])\n"
     ]
    }
   ],
   "source": [
    "# Display keys\n",
    "print( part.keys() )\n",
    "print( part['star'].keys() )\n",
    "print( part['dark'].keys() )"
   ]
  },
  {
   "cell_type": "code",
   "execution_count": 150,
   "id": "4382369c",
   "metadata": {},
   "outputs": [],
   "source": [
    "# Declare parameters for star and dark matter particles\n",
    "starPos = part['star'].prop('host.distance') # star position in kpc\n",
    "starMass = part['star']['mass']              # star mass in solar masses\n",
    "starVel = part['star'].prop('host.velocity') # star velocity in km/s\n",
    "\n",
    "darkPos = part['dark'].prop('host.distance') # dark position in kpc\n",
    "darkMass = part['dark']['mass']              # dark mass in solar masses\n",
    "darkVel = part['dark'].prop('host.velocity') # dark velocity in km/s"
   ]
  },
  {
   "cell_type": "markdown",
   "id": "2ac9e4a7",
   "metadata": {},
   "source": [
    "# Graph density plots and find coefs"
   ]
  },
  {
   "cell_type": "code",
   "execution_count": 159,
   "id": "96c46ec9",
   "metadata": {},
   "outputs": [],
   "source": [
    "# Import modules for graphing \n",
    "import numpy as np\n",
    "%matplotlib inline\n",
    "import matplotlib\n",
    "import matplotlib.pyplot as plt\n",
    "\n",
    "# Import modules for curve fitting\n",
    "import scipy\n",
    "from scipy.optimize import curve_fit"
   ]
  },
  {
   "cell_type": "markdown",
   "id": "389e3fcc",
   "metadata": {},
   "source": [
    "Note: in both graphing codes below:\n",
    "* edges = bin edges of the histogram computed for the radial data\n",
    "* edges[1:] = all the bin edges except for the lower edge of the first bin\n",
    "* edges[:-1] = all bin edges except for the upper edge of the last bin"
   ]
  },
  {
   "cell_type": "code",
   "execution_count": 143,
   "id": "85783c09",
   "metadata": {},
   "outputs": [],
   "source": [
    "# Define the bin edges\n",
    "rmin = 0  # minimum radius\n",
    "rmax = 20  # maximum radius\n",
    "bins = 200  # number of bins"
   ]
  },
  {
   "cell_type": "code",
   "execution_count": 142,
   "id": "0dac51eb",
   "metadata": {},
   "outputs": [],
   "source": [
    "# Curve fitting quations:\n",
    "# density = r ^ -(alpha + 2)\n",
    "# density = r ^ -gamma\n",
    "# beta = 1 - (sigma_t^2 / sigma_r^2) where sigma_t is tangential velocity dispersion"
   ]
  },
  {
   "cell_type": "markdown",
   "id": "7849b478",
   "metadata": {},
   "source": [
    "### Star density profile"
   ]
  },
  {
   "cell_type": "code",
   "execution_count": 206,
   "id": "64a00f1f",
   "metadata": {},
   "outputs": [
    {
     "data": {
      "image/png": "[encoded data removed]",
      "text/plain": [
       "<Figure size 432x288 with 1 Axes>"
      ]
     },
     "metadata": {
      "needs_background": "light"
     },
     "output_type": "display_data"
    }
   ],
   "source": [
    "# Compute radial distance\n",
    "radialStar = np.sqrt((starPos[:,0])**2 + (starPos[:,1])**2 + (starPos[:,2])**2)\n",
    "\n",
    "# Compute the density profile\n",
    "counts, edges = np.histogram(radialStar, bins=bins, range=(rmin, rmax))\n",
    "volume = 4.0/3.0 * np.pi * (np.power(edges[1:], 3) - np.power(edges[:-1], 3))\n",
    "density = counts / volume\n",
    "\n",
    "# Plot the density profile\n",
    "fig, ax = plt.subplots()\n",
    "ax.plot(edges[:-1], density)\n",
    "ax.set_xlabel('Radius [kpc]')\n",
    "ax.set_ylabel('Density [stars/kpc^3]')\n",
    "ax.set_xlim(rmin, rmax)\n",
    "plt.title('Star density profile')\n",
    "plt.show()"
   ]
  },
  {
   "cell_type": "markdown",
   "id": "82672cd0",
   "metadata": {},
   "source": [
    "### Calculate gamma from the star population"
   ]
  },
  {
   "cell_type": "code",
   "execution_count": 207,
   "id": "618b1975",
   "metadata": {},
   "outputs": [
    {
     "name": "stdout",
     "output_type": "stream",
     "text": [
      "Gamma =  6.513147120273701\n"
     ]
    }
   ],
   "source": [
    "# Objective function\n",
    "def objective(r, gamma):\n",
    " return np.power(r,-gamma)\n",
    "\n",
    "# Call curve_fit \n",
    "popt, pcov = curve_fit(objective, edges[1:], density)\n",
    "\n",
    "# Assign gamma from the stellar data fit\n",
    "gamma = popt[0]\n",
    "print(\"Gamma = \", gamma)"
   ]
  },
  {
   "cell_type": "markdown",
   "id": "66ed65eb",
   "metadata": {},
   "source": [
    "### Calculate beta from the star population"
   ]
  },
  {
   "cell_type": "code",
   "execution_count": 208,
   "id": "0444d32f",
   "metadata": {},
   "outputs": [
    {
     "name": "stdout",
     "output_type": "stream",
     "text": [
      "Beta =  0.12881259099244435\n"
     ]
    }
   ],
   "source": [
    "# Import modules to calculate beta\n",
    "import beta\n",
    "\n",
    "# Call beta function to calculate anisotropy from 3d pos and vel arrays\n",
    "beta = beta.beta(starPos, starVel)\n",
    "print(\"Beta = \", beta)"
   ]
  },
  {
   "cell_type": "markdown",
   "id": "cf4536d8",
   "metadata": {},
   "source": [
    "### Dark matter density profile"
   ]
  },
  {
   "cell_type": "code",
   "execution_count": 209,
   "id": "d736f363",
   "metadata": {},
   "outputs": [
    {
     "data": {
      "image/png": "[encoded data removed]",
      "text/plain": [
       "<Figure size 432x288 with 1 Axes>"
      ]
     },
     "metadata": {
      "needs_background": "light"
     },
     "output_type": "display_data"
    }
   ],
   "source": [
    "# Compute radial distance\n",
    "radialDark = np.sqrt((darkPos[:,0])**2 + (darkPos[:,1])**2 + (darkPos[:,2])**2)\n",
    "\n",
    "# Compute the density profile\n",
    "counts, edges = np.histogram(radialDark, bins=bins, range=(rmin, rmax))\n",
    "volume = 4.0/3.0 * np.pi * (np.power(edges[1:], 3) - np.power(edges[:-1], 3))\n",
    "density = counts / volume\n",
    "\n",
    "# Plot the density profile\n",
    "fig, ax = plt.subplots()\n",
    "ax.plot(edges[:-1], density)\n",
    "ax.set_xlabel('Radius [kpc]')\n",
    "ax.set_ylabel('Density [stars/kpc^3]')\n",
    "ax.set_xlim(rmin, rmax)\n",
    "plt.title('Dark matter density profile')\n",
    "plt.show()"
   ]
  },
  {
   "cell_type": "markdown",
   "id": "fbd42733",
   "metadata": {},
   "source": [
    "### Calculate alpha from dark matter population"
   ]
  },
  {
   "cell_type": "code",
   "execution_count": 210,
   "id": "48963f34",
   "metadata": {},
   "outputs": [
    {
     "name": "stdout",
     "output_type": "stream",
     "text": [
      "Alpha =  2.0585414176233794\n"
     ]
    }
   ],
   "source": [
    "# Objective function\n",
    "def objective(r, gammaDark):\n",
    " return np.power(r,-gammaDark)\n",
    "\n",
    "# Call curve_fit \n",
    "popt, pcov = curve_fit(objective, edges[1:], density)\n",
    "\n",
    "# Assign gamma\n",
    "gammaDark = popt[0]\n",
    "\n",
    "# Calculate alpha \n",
    "alpha = gammaDark - 2\n",
    "print(\"Alpha = \", alpha)"
   ]
  },
  {
   "cell_type": "markdown",
   "id": "1490c352",
   "metadata": {},
   "source": [
    "# Use mass estimator"
   ]
  },
  {
   "cell_type": "code",
   "execution_count": 211,
   "id": "d77f22fe",
   "metadata": {},
   "outputs": [],
   "source": [
    "# Import\n",
    "import mass_estimators"
   ]
  },
  {
   "cell_type": "code",
   "execution_count": 212,
   "id": "d580e589",
   "metadata": {},
   "outputs": [],
   "source": [
    "# Call the profile estimator \n",
    "# mass_estimator_profile(alpha, beta, gamma, pos, vel, r_in, r_out, nbins=30)\n",
    "mass = mass_estimators.mass_estimator_profile(alpha, beta, gamma, starPos, starVel, rmin, rmax, nbins=30)"
   ]
  },
  {
   "cell_type": "markdown",
   "id": "61d119bf",
   "metadata": {},
   "source": [
    "Returns:\n",
    "  \n",
    "\t--------\n",
    "\tr : numpy.ndarray\n",
    "\t\tgalactocentric distance bins\n",
    "\tmass_v : numpy.ndarray\n",
    "\t\tenclosed mass profile computed with 3d velocities\n",
    "\tmass_vr : numpy.ndarray\n",
    "\t\tenclosed mass profile computed with radial velocities\t"
   ]
  },
  {
   "cell_type": "code",
   "execution_count": 213,
   "id": "c282da1b",
   "metadata": {},
   "outputs": [
    {
     "name": "stdout",
     "output_type": "stream",
     "text": [
      "(29,)\n",
      "(30,)\n",
      "(30,)\n"
     ]
    }
   ],
   "source": [
    "# Testing shapes\n",
    "print(mass[0].shape)\n",
    "print(mass[1].shape)\n",
    "print(mass[2].shape)"
   ]
  },
  {
   "cell_type": "code",
   "execution_count": 214,
   "id": "75647631",
   "metadata": {},
   "outputs": [],
   "source": [
    "# Assign radius and mass outputs. \n",
    "radius = mass[0]\n",
    "mass_v = mass[1]\n",
    "mass_vr = mass[2]"
   ]
  },
  {
   "cell_type": "code",
   "execution_count": 215,
   "id": "c9100f7d",
   "metadata": {},
   "outputs": [
    {
     "data": {
      "image/png": "[encoded data removed]",
      "text/plain": [
       "<Figure size 432x288 with 1 Axes>"
      ]
     },
     "metadata": {
      "needs_background": "light"
     },
     "output_type": "display_data"
    }
   ],
   "source": [
    "# Plot the mass profile\n",
    "fig, ax = plt.subplots()\n",
    "ax.plot(radius, mass_v[1:], label='mass_v')\n",
    "ax.plot(radius, mass_vr[1:], label='mass_vr')\n",
    "ax.set_xlabel('Radius [kpc]')\n",
    "ax.set_ylabel('Mass [M solar]')\n",
    "ax.set_xlim(rmin, rmax)\n",
    "plt.title('Mass profile')\n",
    "plt.show()"
   ]
  },
  {
   "cell_type": "code",
   "execution_count": null,
   "id": "cc8fc0c0",
   "metadata": {},
   "outputs": [],
   "source": []
  }
 ],
 "metadata": {
  "kernelspec": {
   "display_name": "Python 3 (ipykernel)",
   "language": "python",
   "name": "python3"
  },
  "language_info": {
   "codemirror_mode": {
    "name": "ipython",
    "version": 3
   },
   "file_extension": ".py",
   "mimetype": "text/x-python",
   "name": "python",
   "nbconvert_exporter": "python",
   "pygments_lexer": "ipython3",
   "version": "3.8.10"
  }
 },
 "nbformat": 4,
 "nbformat_minor": 5
}
